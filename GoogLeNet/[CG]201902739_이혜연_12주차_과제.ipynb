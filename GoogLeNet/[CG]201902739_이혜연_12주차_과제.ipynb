{
  "nbformat": 4,
  "nbformat_minor": 0,
  "metadata": {
    "colab": {
      "name": "[CG]201902739_이혜연_12주차_과제.ipynb",
      "provenance": [],
      "collapsed_sections": []
    },
    "kernelspec": {
      "name": "python3",
      "display_name": "Python 3"
    },
    "language_info": {
      "name": "python"
    },
    "accelerator": "GPU"
  },
  "cells": [
    {
      "cell_type": "code",
      "metadata": {
        "id": "HuIVO7H1VCnA"
      },
      "source": [
        "import matplotlib.pyplot as plt\n",
        "import numpy as np\n",
        "import os\n",
        "import PIL\n",
        "import tensorflow as tf\n",
        "import matplotlib.pyplot as plt\n",
        "\n",
        "\n",
        "from tensorflow import keras\n",
        "from tensorflow.keras import layers"
      ],
      "execution_count": 2,
      "outputs": []
    },
    {
      "cell_type": "code",
      "metadata": {
        "colab": {
          "base_uri": "https://localhost:8080/"
        },
        "id": "OAdohE_AE9ud",
        "outputId": "fc61e53c-b0f4-4a08-dbed-e54f5f841a6f"
      },
      "source": [
        "import pathlib\n",
        "dataset_url = \"https://storage.googleapis.com/download.tensorflow.org/example_images/flower_photos.tgz\"\n",
        "data_dir = tf.keras.utils.get_file('flower_photos', origin=dataset_url, untar=True)\n",
        "data_dir = pathlib.Path(data_dir)"
      ],
      "execution_count": 3,
      "outputs": [
        {
          "output_type": "stream",
          "name": "stdout",
          "text": [
            "Downloading data from https://storage.googleapis.com/download.tensorflow.org/example_images/flower_photos.tgz\n",
            "228818944/228813984 [==============================] - 2s 0us/step\n",
            "228827136/228813984 [==============================] - 2s 0us/step\n"
          ]
        }
      ]
    },
    {
      "cell_type": "code",
      "metadata": {
        "id": "f2O9vK5UE_d_"
      },
      "source": [
        "input_shape = (224,224)\n",
        "batch_size = 32"
      ],
      "execution_count": 4,
      "outputs": []
    },
    {
      "cell_type": "code",
      "metadata": {
        "colab": {
          "base_uri": "https://localhost:8080/"
        },
        "id": "7wHFpFBEFDX0",
        "outputId": "ac3c6281-3d5e-4179-85fa-80b731789de5"
      },
      "source": [
        "train_ds = tf.keras.preprocessing.image_dataset_from_directory(\n",
        "  data_dir,\n",
        "  validation_split=0.2,\n",
        "  subset=\"training\",\n",
        "  seed=123,\n",
        "  image_size=input_shape,\n",
        "  batch_size=batch_size)"
      ],
      "execution_count": 5,
      "outputs": [
        {
          "output_type": "stream",
          "name": "stdout",
          "text": [
            "Found 3670 files belonging to 5 classes.\n",
            "Using 2936 files for training.\n"
          ]
        }
      ]
    },
    {
      "cell_type": "code",
      "metadata": {
        "colab": {
          "base_uri": "https://localhost:8080/"
        },
        "id": "KLSyeUmzFEnh",
        "outputId": "f4c7f511-e8ab-4aa1-e22a-bb40f442bd29"
      },
      "source": [
        "val_ds = tf.keras.preprocessing.image_dataset_from_directory(\n",
        "  data_dir,\n",
        "  validation_split=0.2,\n",
        "  subset=\"validation\",\n",
        "  seed=123,\n",
        "  image_size=input_shape,\n",
        "  batch_size=batch_size)"
      ],
      "execution_count": 6,
      "outputs": [
        {
          "output_type": "stream",
          "name": "stdout",
          "text": [
            "Found 3670 files belonging to 5 classes.\n",
            "Using 734 files for validation.\n"
          ]
        }
      ]
    },
    {
      "cell_type": "code",
      "metadata": {
        "id": "jtMmcuSTFF02"
      },
      "source": [
        "num_classes = 5\n",
        "input_shape = (224,224,3)\n",
        "\n",
        "model_input = keras.Input(shape=(224, 224,3), name=\"f_input\")\n",
        "x = layers.Conv2D(16, 3,padding=\"same\", activation=\"relu\")(model_input)\n",
        "x = layers.MaxPooling2D()(x)\n",
        "x = layers.Conv2D(32, 3,padding=\"same\", activation=\"relu\")(x)\n",
        "x = layers.MaxPooling2D()(x)\n",
        "x = layers.Conv2D(64, 3,padding=\"same\", activation=\"relu\")(x)\n",
        "x = layers.MaxPooling2D()(x)\n",
        "x = layers.Flatten()(x)\n",
        "x = layers.Dense(128,activation=\"relu\")(x)\n",
        "model_output = layers.Dense(num_classes,activation=\"softmax\")(x)\n",
        "\n",
        "functional_model = keras.Model(model_input, model_output, name=\"functional_model\")"
      ],
      "execution_count": 7,
      "outputs": []
    },
    {
      "cell_type": "code",
      "metadata": {
        "colab": {
          "base_uri": "https://localhost:8080/"
        },
        "id": "nAnpj4pOGLUF",
        "outputId": "5f808436-a0b0-4ddc-b1af-5239fd761367"
      },
      "source": [
        "functional_model.summary()"
      ],
      "execution_count": null,
      "outputs": [
        {
          "output_type": "stream",
          "name": "stdout",
          "text": [
            "Model: \"functional_model\"\n",
            "_________________________________________________________________\n",
            " Layer (type)                Output Shape              Param #   \n",
            "=================================================================\n",
            " f_input (InputLayer)        [(None, 224, 224, 3)]     0         \n",
            "                                                                 \n",
            " conv2d (Conv2D)             (None, 224, 224, 16)      448       \n",
            "                                                                 \n",
            " max_pooling2d (MaxPooling2D  (None, 112, 112, 16)     0         \n",
            " )                                                               \n",
            "                                                                 \n",
            " conv2d_1 (Conv2D)           (None, 112, 112, 32)      4640      \n",
            "                                                                 \n",
            " max_pooling2d_1 (MaxPooling  (None, 56, 56, 32)       0         \n",
            " 2D)                                                             \n",
            "                                                                 \n",
            " conv2d_2 (Conv2D)           (None, 56, 56, 64)        18496     \n",
            "                                                                 \n",
            " max_pooling2d_2 (MaxPooling  (None, 28, 28, 64)       0         \n",
            " 2D)                                                             \n",
            "                                                                 \n",
            " flatten (Flatten)           (None, 50176)             0         \n",
            "                                                                 \n",
            " dense (Dense)               (None, 128)               6422656   \n",
            "                                                                 \n",
            " dense_1 (Dense)             (None, 5)                 645       \n",
            "                                                                 \n",
            "=================================================================\n",
            "Total params: 6,446,885\n",
            "Trainable params: 6,446,885\n",
            "Non-trainable params: 0\n",
            "_________________________________________________________________\n"
          ]
        }
      ]
    },
    {
      "cell_type": "code",
      "metadata": {
        "id": "7o8wrOJHGLgR"
      },
      "source": [
        "functional_model.compile(optimizer='Adam',\n",
        "              loss=tf.keras.losses.SparseCategoricalCrossentropy(from_logits=True),\n",
        "              metrics=['acc'])"
      ],
      "execution_count": null,
      "outputs": []
    },
    {
      "cell_type": "code",
      "metadata": {
        "colab": {
          "base_uri": "https://localhost:8080/",
          "height": 452
        },
        "id": "zShJkE39GVJx",
        "outputId": "1ea98716-04a7-48bc-bd50-1d18ffce4b2b"
      },
      "source": [
        "epochs=10\n",
        "history = functional_model.fit(\n",
        "  train_ds,\n",
        "  validation_data=val_ds,\n",
        "  epochs=epochs\n",
        ")"
      ],
      "execution_count": null,
      "outputs": [
        {
          "output_type": "stream",
          "name": "stdout",
          "text": [
            "Epoch 1/10\n"
          ]
        },
        {
          "output_type": "stream",
          "name": "stderr",
          "text": [
            "/usr/local/lib/python3.7/dist-packages/tensorflow/python/util/dispatch.py:1096: UserWarning: \"`sparse_categorical_crossentropy` received `from_logits=True`, but the `output` argument was produced by a sigmoid or softmax activation and thus does not represent logits. Was this intended?\"\n",
            "  return dispatch_target(*args, **kwargs)\n"
          ]
        },
        {
          "output_type": "error",
          "ename": "KeyboardInterrupt",
          "evalue": "ignored",
          "traceback": [
            "\u001b[0;31m---------------------------------------------------------------------------\u001b[0m",
            "\u001b[0;31mKeyboardInterrupt\u001b[0m                         Traceback (most recent call last)",
            "\u001b[0;32m<ipython-input-9-8440556571bd>\u001b[0m in \u001b[0;36m<module>\u001b[0;34m()\u001b[0m\n\u001b[1;32m      3\u001b[0m   \u001b[0mtrain_ds\u001b[0m\u001b[0;34m,\u001b[0m\u001b[0;34m\u001b[0m\u001b[0;34m\u001b[0m\u001b[0m\n\u001b[1;32m      4\u001b[0m   \u001b[0mvalidation_data\u001b[0m\u001b[0;34m=\u001b[0m\u001b[0mval_ds\u001b[0m\u001b[0;34m,\u001b[0m\u001b[0;34m\u001b[0m\u001b[0;34m\u001b[0m\u001b[0m\n\u001b[0;32m----> 5\u001b[0;31m   \u001b[0mepochs\u001b[0m\u001b[0;34m=\u001b[0m\u001b[0mepochs\u001b[0m\u001b[0;34m\u001b[0m\u001b[0;34m\u001b[0m\u001b[0m\n\u001b[0m\u001b[1;32m      6\u001b[0m )\n",
            "\u001b[0;32m/usr/local/lib/python3.7/dist-packages/keras/utils/traceback_utils.py\u001b[0m in \u001b[0;36merror_handler\u001b[0;34m(*args, **kwargs)\u001b[0m\n\u001b[1;32m     62\u001b[0m     \u001b[0mfiltered_tb\u001b[0m \u001b[0;34m=\u001b[0m \u001b[0;32mNone\u001b[0m\u001b[0;34m\u001b[0m\u001b[0;34m\u001b[0m\u001b[0m\n\u001b[1;32m     63\u001b[0m     \u001b[0;32mtry\u001b[0m\u001b[0;34m:\u001b[0m\u001b[0;34m\u001b[0m\u001b[0;34m\u001b[0m\u001b[0m\n\u001b[0;32m---> 64\u001b[0;31m       \u001b[0;32mreturn\u001b[0m \u001b[0mfn\u001b[0m\u001b[0;34m(\u001b[0m\u001b[0;34m*\u001b[0m\u001b[0margs\u001b[0m\u001b[0;34m,\u001b[0m \u001b[0;34m**\u001b[0m\u001b[0mkwargs\u001b[0m\u001b[0;34m)\u001b[0m\u001b[0;34m\u001b[0m\u001b[0;34m\u001b[0m\u001b[0m\n\u001b[0m\u001b[1;32m     65\u001b[0m     \u001b[0;32mexcept\u001b[0m \u001b[0mException\u001b[0m \u001b[0;32mas\u001b[0m \u001b[0me\u001b[0m\u001b[0;34m:\u001b[0m  \u001b[0;31m# pylint: disable=broad-except\u001b[0m\u001b[0;34m\u001b[0m\u001b[0;34m\u001b[0m\u001b[0m\n\u001b[1;32m     66\u001b[0m       \u001b[0mfiltered_tb\u001b[0m \u001b[0;34m=\u001b[0m \u001b[0m_process_traceback_frames\u001b[0m\u001b[0;34m(\u001b[0m\u001b[0me\u001b[0m\u001b[0;34m.\u001b[0m\u001b[0m__traceback__\u001b[0m\u001b[0;34m)\u001b[0m\u001b[0;34m\u001b[0m\u001b[0;34m\u001b[0m\u001b[0m\n",
            "\u001b[0;32m/usr/local/lib/python3.7/dist-packages/keras/engine/training.py\u001b[0m in \u001b[0;36mfit\u001b[0;34m(self, x, y, batch_size, epochs, verbose, callbacks, validation_split, validation_data, shuffle, class_weight, sample_weight, initial_epoch, steps_per_epoch, validation_steps, validation_batch_size, validation_freq, max_queue_size, workers, use_multiprocessing)\u001b[0m\n\u001b[1;32m   1214\u001b[0m                 _r=1):\n\u001b[1;32m   1215\u001b[0m               \u001b[0mcallbacks\u001b[0m\u001b[0;34m.\u001b[0m\u001b[0mon_train_batch_begin\u001b[0m\u001b[0;34m(\u001b[0m\u001b[0mstep\u001b[0m\u001b[0;34m)\u001b[0m\u001b[0;34m\u001b[0m\u001b[0;34m\u001b[0m\u001b[0m\n\u001b[0;32m-> 1216\u001b[0;31m               \u001b[0mtmp_logs\u001b[0m \u001b[0;34m=\u001b[0m \u001b[0mself\u001b[0m\u001b[0;34m.\u001b[0m\u001b[0mtrain_function\u001b[0m\u001b[0;34m(\u001b[0m\u001b[0miterator\u001b[0m\u001b[0;34m)\u001b[0m\u001b[0;34m\u001b[0m\u001b[0;34m\u001b[0m\u001b[0m\n\u001b[0m\u001b[1;32m   1217\u001b[0m               \u001b[0;32mif\u001b[0m \u001b[0mdata_handler\u001b[0m\u001b[0;34m.\u001b[0m\u001b[0mshould_sync\u001b[0m\u001b[0;34m:\u001b[0m\u001b[0;34m\u001b[0m\u001b[0;34m\u001b[0m\u001b[0m\n\u001b[1;32m   1218\u001b[0m                 \u001b[0mcontext\u001b[0m\u001b[0;34m.\u001b[0m\u001b[0masync_wait\u001b[0m\u001b[0;34m(\u001b[0m\u001b[0;34m)\u001b[0m\u001b[0;34m\u001b[0m\u001b[0;34m\u001b[0m\u001b[0m\n",
            "\u001b[0;32m/usr/local/lib/python3.7/dist-packages/tensorflow/python/util/traceback_utils.py\u001b[0m in \u001b[0;36merror_handler\u001b[0;34m(*args, **kwargs)\u001b[0m\n\u001b[1;32m    148\u001b[0m     \u001b[0mfiltered_tb\u001b[0m \u001b[0;34m=\u001b[0m \u001b[0;32mNone\u001b[0m\u001b[0;34m\u001b[0m\u001b[0;34m\u001b[0m\u001b[0m\n\u001b[1;32m    149\u001b[0m     \u001b[0;32mtry\u001b[0m\u001b[0;34m:\u001b[0m\u001b[0;34m\u001b[0m\u001b[0;34m\u001b[0m\u001b[0m\n\u001b[0;32m--> 150\u001b[0;31m       \u001b[0;32mreturn\u001b[0m \u001b[0mfn\u001b[0m\u001b[0;34m(\u001b[0m\u001b[0;34m*\u001b[0m\u001b[0margs\u001b[0m\u001b[0;34m,\u001b[0m \u001b[0;34m**\u001b[0m\u001b[0mkwargs\u001b[0m\u001b[0;34m)\u001b[0m\u001b[0;34m\u001b[0m\u001b[0;34m\u001b[0m\u001b[0m\n\u001b[0m\u001b[1;32m    151\u001b[0m     \u001b[0;32mexcept\u001b[0m \u001b[0mException\u001b[0m \u001b[0;32mas\u001b[0m \u001b[0me\u001b[0m\u001b[0;34m:\u001b[0m\u001b[0;34m\u001b[0m\u001b[0;34m\u001b[0m\u001b[0m\n\u001b[1;32m    152\u001b[0m       \u001b[0mfiltered_tb\u001b[0m \u001b[0;34m=\u001b[0m \u001b[0m_process_traceback_frames\u001b[0m\u001b[0;34m(\u001b[0m\u001b[0me\u001b[0m\u001b[0;34m.\u001b[0m\u001b[0m__traceback__\u001b[0m\u001b[0;34m)\u001b[0m\u001b[0;34m\u001b[0m\u001b[0;34m\u001b[0m\u001b[0m\n",
            "\u001b[0;32m/usr/local/lib/python3.7/dist-packages/tensorflow/python/eager/def_function.py\u001b[0m in \u001b[0;36m__call__\u001b[0;34m(self, *args, **kwds)\u001b[0m\n\u001b[1;32m    908\u001b[0m \u001b[0;34m\u001b[0m\u001b[0m\n\u001b[1;32m    909\u001b[0m       \u001b[0;32mwith\u001b[0m \u001b[0mOptionalXlaContext\u001b[0m\u001b[0;34m(\u001b[0m\u001b[0mself\u001b[0m\u001b[0;34m.\u001b[0m\u001b[0m_jit_compile\u001b[0m\u001b[0;34m)\u001b[0m\u001b[0;34m:\u001b[0m\u001b[0;34m\u001b[0m\u001b[0;34m\u001b[0m\u001b[0m\n\u001b[0;32m--> 910\u001b[0;31m         \u001b[0mresult\u001b[0m \u001b[0;34m=\u001b[0m \u001b[0mself\u001b[0m\u001b[0;34m.\u001b[0m\u001b[0m_call\u001b[0m\u001b[0;34m(\u001b[0m\u001b[0;34m*\u001b[0m\u001b[0margs\u001b[0m\u001b[0;34m,\u001b[0m \u001b[0;34m**\u001b[0m\u001b[0mkwds\u001b[0m\u001b[0;34m)\u001b[0m\u001b[0;34m\u001b[0m\u001b[0;34m\u001b[0m\u001b[0m\n\u001b[0m\u001b[1;32m    911\u001b[0m \u001b[0;34m\u001b[0m\u001b[0m\n\u001b[1;32m    912\u001b[0m       \u001b[0mnew_tracing_count\u001b[0m \u001b[0;34m=\u001b[0m \u001b[0mself\u001b[0m\u001b[0;34m.\u001b[0m\u001b[0mexperimental_get_tracing_count\u001b[0m\u001b[0;34m(\u001b[0m\u001b[0;34m)\u001b[0m\u001b[0;34m\u001b[0m\u001b[0;34m\u001b[0m\u001b[0m\n",
            "\u001b[0;32m/usr/local/lib/python3.7/dist-packages/tensorflow/python/eager/def_function.py\u001b[0m in \u001b[0;36m_call\u001b[0;34m(self, *args, **kwds)\u001b[0m\n\u001b[1;32m    973\u001b[0m         \u001b[0;31m# Lifting succeeded, so variables are initialized and we can run the\u001b[0m\u001b[0;34m\u001b[0m\u001b[0;34m\u001b[0m\u001b[0;34m\u001b[0m\u001b[0m\n\u001b[1;32m    974\u001b[0m         \u001b[0;31m# stateless function.\u001b[0m\u001b[0;34m\u001b[0m\u001b[0;34m\u001b[0m\u001b[0;34m\u001b[0m\u001b[0m\n\u001b[0;32m--> 975\u001b[0;31m         \u001b[0;32mreturn\u001b[0m \u001b[0mself\u001b[0m\u001b[0;34m.\u001b[0m\u001b[0m_stateless_fn\u001b[0m\u001b[0;34m(\u001b[0m\u001b[0;34m*\u001b[0m\u001b[0margs\u001b[0m\u001b[0;34m,\u001b[0m \u001b[0;34m**\u001b[0m\u001b[0mkwds\u001b[0m\u001b[0;34m)\u001b[0m\u001b[0;34m\u001b[0m\u001b[0;34m\u001b[0m\u001b[0m\n\u001b[0m\u001b[1;32m    976\u001b[0m     \u001b[0;32melse\u001b[0m\u001b[0;34m:\u001b[0m\u001b[0;34m\u001b[0m\u001b[0;34m\u001b[0m\u001b[0m\n\u001b[1;32m    977\u001b[0m       \u001b[0m_\u001b[0m\u001b[0;34m,\u001b[0m \u001b[0m_\u001b[0m\u001b[0;34m,\u001b[0m \u001b[0m_\u001b[0m\u001b[0;34m,\u001b[0m \u001b[0mfiltered_flat_args\u001b[0m \u001b[0;34m=\u001b[0m\u001b[0;31m \u001b[0m\u001b[0;31m\\\u001b[0m\u001b[0;34m\u001b[0m\u001b[0;34m\u001b[0m\u001b[0m\n",
            "\u001b[0;32m/usr/local/lib/python3.7/dist-packages/tensorflow/python/eager/function.py\u001b[0m in \u001b[0;36m__call__\u001b[0;34m(self, *args, **kwargs)\u001b[0m\n\u001b[1;32m   3129\u001b[0m        filtered_flat_args) = self._maybe_define_function(args, kwargs)\n\u001b[1;32m   3130\u001b[0m     return graph_function._call_flat(\n\u001b[0;32m-> 3131\u001b[0;31m         filtered_flat_args, captured_inputs=graph_function.captured_inputs)  # pylint: disable=protected-access\n\u001b[0m\u001b[1;32m   3132\u001b[0m \u001b[0;34m\u001b[0m\u001b[0m\n\u001b[1;32m   3133\u001b[0m   \u001b[0;34m@\u001b[0m\u001b[0mproperty\u001b[0m\u001b[0;34m\u001b[0m\u001b[0;34m\u001b[0m\u001b[0m\n",
            "\u001b[0;32m/usr/local/lib/python3.7/dist-packages/tensorflow/python/eager/function.py\u001b[0m in \u001b[0;36m_call_flat\u001b[0;34m(self, args, captured_inputs, cancellation_manager)\u001b[0m\n\u001b[1;32m   1958\u001b[0m       \u001b[0;31m# No tape is watching; skip to running the function.\u001b[0m\u001b[0;34m\u001b[0m\u001b[0;34m\u001b[0m\u001b[0;34m\u001b[0m\u001b[0m\n\u001b[1;32m   1959\u001b[0m       return self._build_call_outputs(self._inference_function.call(\n\u001b[0;32m-> 1960\u001b[0;31m           ctx, args, cancellation_manager=cancellation_manager))\n\u001b[0m\u001b[1;32m   1961\u001b[0m     forward_backward = self._select_forward_and_backward_functions(\n\u001b[1;32m   1962\u001b[0m         \u001b[0margs\u001b[0m\u001b[0;34m,\u001b[0m\u001b[0;34m\u001b[0m\u001b[0;34m\u001b[0m\u001b[0m\n",
            "\u001b[0;32m/usr/local/lib/python3.7/dist-packages/tensorflow/python/eager/function.py\u001b[0m in \u001b[0;36mcall\u001b[0;34m(self, ctx, args, cancellation_manager)\u001b[0m\n\u001b[1;32m    601\u001b[0m               \u001b[0minputs\u001b[0m\u001b[0;34m=\u001b[0m\u001b[0margs\u001b[0m\u001b[0;34m,\u001b[0m\u001b[0;34m\u001b[0m\u001b[0;34m\u001b[0m\u001b[0m\n\u001b[1;32m    602\u001b[0m               \u001b[0mattrs\u001b[0m\u001b[0;34m=\u001b[0m\u001b[0mattrs\u001b[0m\u001b[0;34m,\u001b[0m\u001b[0;34m\u001b[0m\u001b[0;34m\u001b[0m\u001b[0m\n\u001b[0;32m--> 603\u001b[0;31m               ctx=ctx)\n\u001b[0m\u001b[1;32m    604\u001b[0m         \u001b[0;32melse\u001b[0m\u001b[0;34m:\u001b[0m\u001b[0;34m\u001b[0m\u001b[0;34m\u001b[0m\u001b[0m\n\u001b[1;32m    605\u001b[0m           outputs = execute.execute_with_cancellation(\n",
            "\u001b[0;32m/usr/local/lib/python3.7/dist-packages/tensorflow/python/eager/execute.py\u001b[0m in \u001b[0;36mquick_execute\u001b[0;34m(op_name, num_outputs, inputs, attrs, ctx, name)\u001b[0m\n\u001b[1;32m     57\u001b[0m     \u001b[0mctx\u001b[0m\u001b[0;34m.\u001b[0m\u001b[0mensure_initialized\u001b[0m\u001b[0;34m(\u001b[0m\u001b[0;34m)\u001b[0m\u001b[0;34m\u001b[0m\u001b[0;34m\u001b[0m\u001b[0m\n\u001b[1;32m     58\u001b[0m     tensors = pywrap_tfe.TFE_Py_Execute(ctx._handle, device_name, op_name,\n\u001b[0;32m---> 59\u001b[0;31m                                         inputs, attrs, num_outputs)\n\u001b[0m\u001b[1;32m     60\u001b[0m   \u001b[0;32mexcept\u001b[0m \u001b[0mcore\u001b[0m\u001b[0;34m.\u001b[0m\u001b[0m_NotOkStatusException\u001b[0m \u001b[0;32mas\u001b[0m \u001b[0me\u001b[0m\u001b[0;34m:\u001b[0m\u001b[0;34m\u001b[0m\u001b[0;34m\u001b[0m\u001b[0m\n\u001b[1;32m     61\u001b[0m     \u001b[0;32mif\u001b[0m \u001b[0mname\u001b[0m \u001b[0;32mis\u001b[0m \u001b[0;32mnot\u001b[0m \u001b[0;32mNone\u001b[0m\u001b[0;34m:\u001b[0m\u001b[0;34m\u001b[0m\u001b[0;34m\u001b[0m\u001b[0m\n",
            "\u001b[0;31mKeyboardInterrupt\u001b[0m: "
          ]
        }
      ]
    },
    {
      "cell_type": "code",
      "metadata": {
        "id": "QUbmJl0RJxvW"
      },
      "source": [
        "num_classes = 5\n",
        "input_shape = (224,224,3)\n",
        "\n",
        "def func_model(num_classes, input_shape):\n",
        "    model_input = keras.Input(shape=input_shape, name=\"f_input\")\n",
        "    x = layers.Conv2D(16, 3,padding=\"same\", activation=\"relu\")(model_input)\n",
        "    x = layers.MaxPooling2D()(x)\n",
        "    x = layers.Conv2D(32, 3,padding=\"same\", activation=\"relu\")(x)\n",
        "    x = layers.MaxPooling2D()(x)\n",
        "    x = layers.Conv2D(64, 3,padding=\"same\", activation=\"relu\")(x)\n",
        "    x = layers.MaxPooling2D()(x)\n",
        "    x = layers.Flatten()(x)\n",
        "    x = layers.Dense(128,activation=\"relu\")(x)\n",
        "    model_output = layers.Dense(num_classes,activation=\"softmax\")(x)\n",
        "\n",
        "    return keras.Model(model_input, model_output, name=\"functional_model\")"
      ],
      "execution_count": null,
      "outputs": []
    },
    {
      "cell_type": "code",
      "metadata": {
        "id": "hFqQwzUZGX3e"
      },
      "source": [
        "functional_model = func_model(num_classes,input_shape)"
      ],
      "execution_count": null,
      "outputs": []
    },
    {
      "cell_type": "code",
      "metadata": {
        "colab": {
          "base_uri": "https://localhost:8080/"
        },
        "id": "IRAxTHW9Kbrx",
        "outputId": "a25769e1-d351-4baa-85c9-fc2072e4eecf"
      },
      "source": [
        "functional_model.summary()"
      ],
      "execution_count": null,
      "outputs": [
        {
          "output_type": "stream",
          "name": "stdout",
          "text": [
            "Model: \"functional_model\"\n",
            "_________________________________________________________________\n",
            " Layer (type)                Output Shape              Param #   \n",
            "=================================================================\n",
            " f_input (InputLayer)        [(None, 224, 224, 3)]     0         \n",
            "                                                                 \n",
            " conv2d_3 (Conv2D)           (None, 224, 224, 16)      448       \n",
            "                                                                 \n",
            " max_pooling2d_3 (MaxPooling  (None, 112, 112, 16)     0         \n",
            " 2D)                                                             \n",
            "                                                                 \n",
            " conv2d_4 (Conv2D)           (None, 112, 112, 32)      4640      \n",
            "                                                                 \n",
            " max_pooling2d_4 (MaxPooling  (None, 56, 56, 32)       0         \n",
            " 2D)                                                             \n",
            "                                                                 \n",
            " conv2d_5 (Conv2D)           (None, 56, 56, 64)        18496     \n",
            "                                                                 \n",
            " max_pooling2d_5 (MaxPooling  (None, 28, 28, 64)       0         \n",
            " 2D)                                                             \n",
            "                                                                 \n",
            " flatten_1 (Flatten)         (None, 50176)             0         \n",
            "                                                                 \n",
            " dense_2 (Dense)             (None, 128)               6422656   \n",
            "                                                                 \n",
            " dense_3 (Dense)             (None, 5)                 645       \n",
            "                                                                 \n",
            "=================================================================\n",
            "Total params: 6,446,885\n",
            "Trainable params: 6,446,885\n",
            "Non-trainable params: 0\n",
            "_________________________________________________________________\n"
          ]
        }
      ]
    },
    {
      "cell_type": "code",
      "metadata": {
        "id": "vR198fdjKduj"
      },
      "source": [
        "class MyModel(tf.keras.Model):\n",
        "\n",
        "  def __init__(self,num_classes,input_shape):\n",
        "    super().__init__()\n",
        "    self.conv1 = layers.Conv2D(16, 3,padding=\"same\", activation=\"relu\",input_shape=input_shape)\n",
        "    self.conv2 = layers.Conv2D(32, 3,padding=\"same\", activation=\"relu\")\n",
        "    self.conv3 = layers.Conv2D(64, 3,padding=\"same\", activation=\"relu\")\n",
        "    self.maxpool2d = layers.MaxPooling2D()\n",
        "    self.flatten = layers.Flatten()\n",
        "    self.dense1 = layers.Dense(128,activation=\"relu\")\n",
        "    self.dense2 = layers.Dense(num_classes,activation=\"softmax\")\n",
        "    \n",
        "\n",
        "  def call(self, inputs):\n",
        "    x = self.conv1(inputs)\n",
        "    x = self.maxpool2d(x)\n",
        "    x = self.conv2(x)\n",
        "    x = self.maxpool2d(x)\n",
        "    x = self.conv3(x)\n",
        "    x = self.maxpool2d(x)\n",
        "\n",
        "    x = self.flatten(x)\n",
        "    x = self.dense1(x)\n",
        "    out = self.dense2(x)\n",
        "\n",
        "    return out\n",
        "\n",
        "subclass_model = MyModel(num_classes,input_shape)"
      ],
      "execution_count": null,
      "outputs": []
    },
    {
      "cell_type": "code",
      "metadata": {
        "id": "wwsgK1UGT2NK"
      },
      "source": [
        "subclass_model.compile(optimizer='Adam',\n",
        "              loss=tf.keras.losses.SparseCategoricalCrossentropy(from_logits=True),\n",
        "              metrics=['acc'])"
      ],
      "execution_count": null,
      "outputs": []
    },
    {
      "cell_type": "code",
      "metadata": {
        "id": "9MrzxrazUC5B"
      },
      "source": [
        "epochs=10\n",
        "history = subclass_model.fit(\n",
        "  train_ds,\n",
        "  validation_data=val_ds,\n",
        "  epochs=epochs\n",
        ")"
      ],
      "execution_count": null,
      "outputs": []
    },
    {
      "cell_type": "code",
      "metadata": {
        "id": "PMOIYZifUGL9"
      },
      "source": [
        "num_classes = 5\n",
        "input_shape = (224,224,3)\n",
        "\n",
        "model_input = keras.Input(shape=(224, 224,3), name=\"f_input\")\n",
        "x1 = layers.Conv2D(16, 3,padding=\"same\", activation=\"relu\")(model_input)\n",
        "x1 = layers.MaxPooling2D()(x1)\n",
        "x2 = layers.Conv2D(32, 3,padding=\"same\", activation=\"relu\")(x1)\n",
        "x2 = layers.MaxPooling2D()(x2)\n",
        "x3 = layers.Conv2D(64, 3,padding=\"same\", activation=\"relu\")(x1)\n",
        "x3 = layers.MaxPooling2D()(x3)\n",
        "flat2 = layers.Flatten()(x2)\n",
        "flat3 = layers.Flatten()(x3)\n",
        "d1 = layers.Dense(128,activation=\"relu\")(flat2)\n",
        "d2 = layers.Dense(num_classes,activation=\"softmax\")(flat3)\n",
        "\n",
        "functional_model = keras.Model(model_input, (d1,d2))"
      ],
      "execution_count": null,
      "outputs": []
    },
    {
      "cell_type": "code",
      "metadata": {
        "colab": {
          "base_uri": "https://localhost:8080/"
        },
        "id": "UFPURdZGYKNG",
        "outputId": "a472baf1-ada4-42ed-fb71-8fdd254a2208"
      },
      "source": [
        "functional_model.summary()"
      ],
      "execution_count": null,
      "outputs": [
        {
          "output_type": "stream",
          "name": "stdout",
          "text": [
            "Model: \"model\"\n",
            "__________________________________________________________________________________________________\n",
            " Layer (type)                   Output Shape         Param #     Connected to                     \n",
            "==================================================================================================\n",
            " f_input (InputLayer)           [(None, 224, 224, 3  0           []                               \n",
            "                                )]                                                                \n",
            "                                                                                                  \n",
            " conv2d_9 (Conv2D)              (None, 224, 224, 16  448         ['f_input[0][0]']                \n",
            "                                )                                                                 \n",
            "                                                                                                  \n",
            " max_pooling2d_7 (MaxPooling2D)  (None, 112, 112, 16  0          ['conv2d_9[0][0]']               \n",
            "                                )                                                                 \n",
            "                                                                                                  \n",
            " conv2d_10 (Conv2D)             (None, 112, 112, 32  4640        ['max_pooling2d_7[0][0]']        \n",
            "                                )                                                                 \n",
            "                                                                                                  \n",
            " conv2d_11 (Conv2D)             (None, 112, 112, 64  9280        ['max_pooling2d_7[0][0]']        \n",
            "                                )                                                                 \n",
            "                                                                                                  \n",
            " max_pooling2d_8 (MaxPooling2D)  (None, 56, 56, 32)  0           ['conv2d_10[0][0]']              \n",
            "                                                                                                  \n",
            " max_pooling2d_9 (MaxPooling2D)  (None, 56, 56, 64)  0           ['conv2d_11[0][0]']              \n",
            "                                                                                                  \n",
            " flatten_3 (Flatten)            (None, 100352)       0           ['max_pooling2d_8[0][0]']        \n",
            "                                                                                                  \n",
            " flatten_4 (Flatten)            (None, 200704)       0           ['max_pooling2d_9[0][0]']        \n",
            "                                                                                                  \n",
            " dense_6 (Dense)                (None, 128)          12845184    ['flatten_3[0][0]']              \n",
            "                                                                                                  \n",
            " dense_7 (Dense)                (None, 5)            1003525     ['flatten_4[0][0]']              \n",
            "                                                                                                  \n",
            "==================================================================================================\n",
            "Total params: 13,863,077\n",
            "Trainable params: 13,863,077\n",
            "Non-trainable params: 0\n",
            "__________________________________________________________________________________________________\n"
          ]
        }
      ]
    },
    {
      "cell_type": "code",
      "metadata": {
        "id": "H4dWA_ddYLis"
      },
      "source": [
        "num_classes = 5\n",
        "input_shape = (224,224,3)\n",
        "\n",
        "model_input = keras.Input(shape=(224, 224,3), name=\"f_input\")\n",
        "x1 = layers.Conv2D(16, 3,padding=\"same\", activation=\"relu\")(model_input)\n",
        "x1 = layers.MaxPooling2D()(x1)\n",
        "x2 = layers.Conv2D(32, 3,padding=\"same\", activation=\"relu\")(x1)\n",
        "x2 = layers.MaxPooling2D()(x2)\n",
        "x3 = layers.Conv2D(64, 3,padding=\"same\", activation=\"relu\")(x1)\n",
        "x3 = layers.MaxPooling2D()(x3)\n",
        "\n",
        "con1 = layers.Concatenate()([x2,x3])\n",
        "flat = layers.Flatten()(con1)\n",
        "\n",
        "d1 = layers.Dense(128,activation=\"relu\")(flat)\n",
        "d2 = layers.Dense(num_classes,activation=\"softmax\")(d1)\n",
        "\n",
        "functional_model = keras.Model(model_input, d2)"
      ],
      "execution_count": null,
      "outputs": []
    },
    {
      "cell_type": "code",
      "metadata": {
        "colab": {
          "base_uri": "https://localhost:8080/"
        },
        "id": "dFDP2fqRZ5FS",
        "outputId": "7d659ed6-9d36-48ef-cee9-00e2d3ad5ae5"
      },
      "source": [
        "functional_model.summary()"
      ],
      "execution_count": null,
      "outputs": [
        {
          "output_type": "stream",
          "name": "stdout",
          "text": [
            "Model: \"model_1\"\n",
            "__________________________________________________________________________________________________\n",
            " Layer (type)                   Output Shape         Param #     Connected to                     \n",
            "==================================================================================================\n",
            " f_input (InputLayer)           [(None, 224, 224, 3  0           []                               \n",
            "                                )]                                                                \n",
            "                                                                                                  \n",
            " conv2d_12 (Conv2D)             (None, 224, 224, 16  448         ['f_input[0][0]']                \n",
            "                                )                                                                 \n",
            "                                                                                                  \n",
            " max_pooling2d_10 (MaxPooling2D  (None, 112, 112, 16  0          ['conv2d_12[0][0]']              \n",
            " )                              )                                                                 \n",
            "                                                                                                  \n",
            " conv2d_13 (Conv2D)             (None, 112, 112, 32  4640        ['max_pooling2d_10[0][0]']       \n",
            "                                )                                                                 \n",
            "                                                                                                  \n",
            " conv2d_14 (Conv2D)             (None, 112, 112, 64  9280        ['max_pooling2d_10[0][0]']       \n",
            "                                )                                                                 \n",
            "                                                                                                  \n",
            " max_pooling2d_11 (MaxPooling2D  (None, 56, 56, 32)  0           ['conv2d_13[0][0]']              \n",
            " )                                                                                                \n",
            "                                                                                                  \n",
            " max_pooling2d_12 (MaxPooling2D  (None, 56, 56, 64)  0           ['conv2d_14[0][0]']              \n",
            " )                                                                                                \n",
            "                                                                                                  \n",
            " concatenate (Concatenate)      (None, 56, 56, 96)   0           ['max_pooling2d_11[0][0]',       \n",
            "                                                                  'max_pooling2d_12[0][0]']       \n",
            "                                                                                                  \n",
            " flatten_5 (Flatten)            (None, 301056)       0           ['concatenate[0][0]']            \n",
            "                                                                                                  \n",
            " dense_8 (Dense)                (None, 128)          38535296    ['flatten_5[0][0]']              \n",
            "                                                                                                  \n",
            " dense_9 (Dense)                (None, 5)            645         ['dense_8[0][0]']                \n",
            "                                                                                                  \n",
            "==================================================================================================\n",
            "Total params: 38,550,309\n",
            "Trainable params: 38,550,309\n",
            "Non-trainable params: 0\n",
            "__________________________________________________________________________________________________\n"
          ]
        }
      ]
    },
    {
      "cell_type": "code",
      "metadata": {
        "id": "zS93xvu3Z6y8"
      },
      "source": [
        "num_classes = 5\n",
        "input_shape = (224,224,3)\n",
        "\n",
        "model_input = keras.Input(shape=(224, 224,3), name=\"f_input\")\n",
        "\n",
        "conv_1x1 = layers.Conv2D(64, (1,1),padding=\"same\", activation=\"relu\")(model_input)\n",
        "\n",
        "conv_3x3 = layers.Conv2D(128, (3,3),padding=\"same\", activation=\"relu\")(model_input)\n",
        "conv_3x3 = layers.Conv2D(128, (3,3),padding=\"same\", activation=\"relu\")(conv_3x3)\n",
        "\n",
        "conv_5x5 = layers.Conv2D(32, (5,5),padding=\"same\", activation=\"relu\")(model_input)\n",
        "conv_5x5 = layers.Conv2D(32, (5,5),padding=\"same\", activation=\"relu\")(conv_5x5)\n",
        "\n",
        "maxpool_3x3 = layers.MaxPooling2D(pool_size=(3,3),strides=(1,1),padding=\"same\")(model_input)\n",
        "maxpool_3x3 = layers.Conv2D(64, (1,1),padding=\"same\", activation=\"relu\")(maxpool_3x3)\n",
        "\n",
        "con1 = layers.Concatenate()([conv_1x1,conv_3x3,conv_5x5,maxpool_3x3])\n",
        "\n",
        "functional_model = keras.Model(model_input, con1, name=\"functional_model\")"
      ],
      "execution_count": null,
      "outputs": []
    },
    {
      "cell_type": "code",
      "metadata": {
        "colab": {
          "base_uri": "https://localhost:8080/"
        },
        "id": "pCDY3kPdiv1r",
        "outputId": "8023fdf0-32a6-4bc1-c849-8e2ac8ce1a35"
      },
      "source": [
        "functional_model.summary()"
      ],
      "execution_count": null,
      "outputs": [
        {
          "output_type": "stream",
          "name": "stdout",
          "text": [
            "Model: \"functional_model\"\n",
            "__________________________________________________________________________________________________\n",
            " Layer (type)                   Output Shape         Param #     Connected to                     \n",
            "==================================================================================================\n",
            " f_input (InputLayer)           [(None, 224, 224, 3  0           []                               \n",
            "                                )]                                                                \n",
            "                                                                                                  \n",
            " conv2d_16 (Conv2D)             (None, 224, 224, 12  3584        ['f_input[0][0]']                \n",
            "                                8)                                                                \n",
            "                                                                                                  \n",
            " conv2d_18 (Conv2D)             (None, 224, 224, 32  2432        ['f_input[0][0]']                \n",
            "                                )                                                                 \n",
            "                                                                                                  \n",
            " max_pooling2d_13 (MaxPooling2D  (None, 224, 224, 3)  0          ['f_input[0][0]']                \n",
            " )                                                                                                \n",
            "                                                                                                  \n",
            " conv2d_15 (Conv2D)             (None, 224, 224, 64  256         ['f_input[0][0]']                \n",
            "                                )                                                                 \n",
            "                                                                                                  \n",
            " conv2d_17 (Conv2D)             (None, 224, 224, 12  147584      ['conv2d_16[0][0]']              \n",
            "                                8)                                                                \n",
            "                                                                                                  \n",
            " conv2d_19 (Conv2D)             (None, 224, 224, 32  25632       ['conv2d_18[0][0]']              \n",
            "                                )                                                                 \n",
            "                                                                                                  \n",
            " conv2d_20 (Conv2D)             (None, 224, 224, 64  256         ['max_pooling2d_13[0][0]']       \n",
            "                                )                                                                 \n",
            "                                                                                                  \n",
            " concatenate_1 (Concatenate)    (None, 224, 224, 28  0           ['conv2d_15[0][0]',              \n",
            "                                8)                                'conv2d_17[0][0]',              \n",
            "                                                                  'conv2d_19[0][0]',              \n",
            "                                                                  'conv2d_20[0][0]']              \n",
            "                                                                                                  \n",
            "==================================================================================================\n",
            "Total params: 179,744\n",
            "Trainable params: 179,744\n",
            "Non-trainable params: 0\n",
            "__________________________________________________________________________________________________\n"
          ]
        }
      ]
    },
    {
      "cell_type": "code",
      "metadata": {
        "id": "anXgif_fjdYo"
      },
      "source": [
        "'''\n",
        "GoogLeNet 코드 작성\n",
        "functional API, subclass model 중 원하는 방식으로 구현\n",
        "함수를 사용하면 보다 간편하게 구현 가능\n",
        "'''\n",
        "def inception_module(input_layer,filter1=64,filter2_reduce=96,filter2=128,filter3_reduce=32,filter3=32,filter_pool=32):\n",
        "  conv_1x1 = layers.Conv2D(filter1, (1,1),padding=\"same\", activation=\"relu\")(input_layer)\n",
        "\n",
        "  conv_3x3 = layers.Conv2D(filter2_reduce, (1,1),padding=\"same\", activation=\"relu\")(input_layer)\n",
        "  conv_3x3 = layers.Conv2D(filter2, (3,3),padding=\"same\", activation=\"relu\")(conv_3x3)\n",
        "\n",
        "  conv_5x5 = layers.Conv2D(filter3_reduce, (1,1),padding=\"same\", activation=\"relu\")(input_layer)\n",
        "  conv_5x5 = layers.Conv2D(filter3, (5,5),padding=\"same\", activation=\"relu\")(conv_5x5)\n",
        "\n",
        "  maxpool_3x3 = layers.MaxPooling2D(pool_size=(3,3),strides=(1,1),padding=\"same\")(input_layer)\n",
        "  maxpool_3x3 = layers.Conv2D(filter_pool, (1,1),padding=\"same\", activation=\"relu\")(maxpool_3x3)\n",
        "\n",
        "  outputs = layers.Concatenate()([conv_1x1,conv_3x3,conv_5x5,maxpool_3x3])\n",
        "  return outputs\n",
        "\n",
        "num_classes = 5\n",
        "input_shape = (224,224,3)\n",
        "model_input = keras.Input(shape=(224, 224,3), name=\"f_input\")\n",
        "x = layers.Conv2D(64, 7, strides=2, padding='same', activation='relu')(model_input)\n",
        "x = layers.MaxPooling2D(3, strides=2)(x)\n",
        "x = layers.BatchNormalization()(x)\n",
        "x = layers.Conv2D(192, 3, strides=1, padding='same', activation='relu')(x)\n",
        "x = layers.BatchNormalization()(x)\n",
        "x = layers.MaxPooling2D(3, strides=2)(x)\n",
        "x = inception_module(x,filter1=64,filter2_reduce=96,filter2=128,filter3_reduce=16,filter3=32,filter_pool=32)\n",
        "x = inception_module(x,filter1=128,filter2_reduce=128,filter2=192,filter3_reduce=32,filter3=96,filter_pool=64)\n",
        "x = layers.MaxPooling2D(3, strides=2)(x)\n",
        "x = inception_module(x,filter1=192,filter2_reduce=96,filter2=208,filter3_reduce=16,filter3=48,filter_pool=64)\n",
        "x = inception_module(x,filter1=160,filter2_reduce=112,filter2=224,filter3_reduce=24,filter3=64,filter_pool=64)\n",
        "x = inception_module(x,filter1=128,filter2_reduce=128,filter2=256,filter3_reduce=24,filter3=64,filter_pool=64)\n",
        "x = inception_module(x,filter1=112,filter2_reduce=144,filter2=288,filter3_reduce=32,filter3=64,filter_pool=64)\n",
        "x = inception_module(x,filter1=256,filter2_reduce=160,filter2=320,filter3_reduce=32,filter3=128,filter_pool=128)\n",
        "x = layers.MaxPooling2D(3, strides=2)(x)\n",
        "x = inception_module(x,filter1=256,filter2_reduce=160,filter2=320,filter3_reduce=32,filter3=128,filter_pool=128)\n",
        "x = inception_module(x,filter1=384,filter2_reduce=192,filter2=384,filter3_reduce=48,filter3=128,filter_pool=128)\n",
        "avg_pool_2d = tf.keras.layers.AveragePooling2D(pool_size=7, strides=1, padding='same')\n",
        "x = avg_pool_2d(x)\n",
        "x = layers.Dropout(0.4)(x)\n",
        "x = layers.Dense(units=1000, activation='relu')(x)\n",
        "out = layers.Dense(units=num_classes, activation='softmax')(x)\n",
        "\n",
        "GoogLeNet_model = keras.Model(model_input, out, name=\"GoogLeNet_model\")\n",
        "\n"
      ],
      "execution_count": 16,
      "outputs": []
    },
    {
      "cell_type": "code",
      "metadata": {
        "id": "F-0gKdqFqW6m",
        "colab": {
          "base_uri": "https://localhost:8080/"
        },
        "outputId": "951db141-1e1c-48ca-997c-e49cdc9cbbb7"
      },
      "source": [
        "GoogLeNet_model.summary()"
      ],
      "execution_count": 17,
      "outputs": [
        {
          "output_type": "stream",
          "name": "stdout",
          "text": [
            "Model: \"GoogLeNet_model\"\n",
            "__________________________________________________________________________________________________\n",
            " Layer (type)                   Output Shape         Param #     Connected to                     \n",
            "==================================================================================================\n",
            " f_input (InputLayer)           [(None, 224, 224, 3  0           []                               \n",
            "                                )]                                                                \n",
            "                                                                                                  \n",
            " conv2d_283 (Conv2D)            (None, 112, 112, 64  9472        ['f_input[0][0]']                \n",
            "                                )                                                                 \n",
            "                                                                                                  \n",
            " max_pooling2d_68 (MaxPooling2D  (None, 55, 55, 64)  0           ['conv2d_283[0][0]']             \n",
            " )                                                                                                \n",
            "                                                                                                  \n",
            " batch_normalization_10 (BatchN  (None, 55, 55, 64)  256         ['max_pooling2d_68[0][0]']       \n",
            " ormalization)                                                                                    \n",
            "                                                                                                  \n",
            " conv2d_284 (Conv2D)            (None, 55, 55, 192)  110784      ['batch_normalization_10[0][0]'] \n",
            "                                                                                                  \n",
            " batch_normalization_11 (BatchN  (None, 55, 55, 192)  768        ['conv2d_284[0][0]']             \n",
            " ormalization)                                                                                    \n",
            "                                                                                                  \n",
            " max_pooling2d_69 (MaxPooling2D  (None, 27, 27, 192)  0          ['batch_normalization_11[0][0]'] \n",
            " )                                                                                                \n",
            "                                                                                                  \n",
            " conv2d_286 (Conv2D)            (None, 27, 27, 96)   18528       ['max_pooling2d_69[0][0]']       \n",
            "                                                                                                  \n",
            " conv2d_288 (Conv2D)            (None, 27, 27, 16)   3088        ['max_pooling2d_69[0][0]']       \n",
            "                                                                                                  \n",
            " max_pooling2d_70 (MaxPooling2D  (None, 27, 27, 192)  0          ['max_pooling2d_69[0][0]']       \n",
            " )                                                                                                \n",
            "                                                                                                  \n",
            " conv2d_285 (Conv2D)            (None, 27, 27, 64)   12352       ['max_pooling2d_69[0][0]']       \n",
            "                                                                                                  \n",
            " conv2d_287 (Conv2D)            (None, 27, 27, 128)  110720      ['conv2d_286[0][0]']             \n",
            "                                                                                                  \n",
            " conv2d_289 (Conv2D)            (None, 27, 27, 32)   12832       ['conv2d_288[0][0]']             \n",
            "                                                                                                  \n",
            " conv2d_290 (Conv2D)            (None, 27, 27, 32)   6176        ['max_pooling2d_70[0][0]']       \n",
            "                                                                                                  \n",
            " concatenate_45 (Concatenate)   (None, 27, 27, 256)  0           ['conv2d_285[0][0]',             \n",
            "                                                                  'conv2d_287[0][0]',             \n",
            "                                                                  'conv2d_289[0][0]',             \n",
            "                                                                  'conv2d_290[0][0]']             \n",
            "                                                                                                  \n",
            " conv2d_292 (Conv2D)            (None, 27, 27, 128)  32896       ['concatenate_45[0][0]']         \n",
            "                                                                                                  \n",
            " conv2d_294 (Conv2D)            (None, 27, 27, 32)   8224        ['concatenate_45[0][0]']         \n",
            "                                                                                                  \n",
            " max_pooling2d_71 (MaxPooling2D  (None, 27, 27, 256)  0          ['concatenate_45[0][0]']         \n",
            " )                                                                                                \n",
            "                                                                                                  \n",
            " conv2d_291 (Conv2D)            (None, 27, 27, 128)  32896       ['concatenate_45[0][0]']         \n",
            "                                                                                                  \n",
            " conv2d_293 (Conv2D)            (None, 27, 27, 192)  221376      ['conv2d_292[0][0]']             \n",
            "                                                                                                  \n",
            " conv2d_295 (Conv2D)            (None, 27, 27, 96)   76896       ['conv2d_294[0][0]']             \n",
            "                                                                                                  \n",
            " conv2d_296 (Conv2D)            (None, 27, 27, 64)   16448       ['max_pooling2d_71[0][0]']       \n",
            "                                                                                                  \n",
            " concatenate_46 (Concatenate)   (None, 27, 27, 480)  0           ['conv2d_291[0][0]',             \n",
            "                                                                  'conv2d_293[0][0]',             \n",
            "                                                                  'conv2d_295[0][0]',             \n",
            "                                                                  'conv2d_296[0][0]']             \n",
            "                                                                                                  \n",
            " max_pooling2d_72 (MaxPooling2D  (None, 13, 13, 480)  0          ['concatenate_46[0][0]']         \n",
            " )                                                                                                \n",
            "                                                                                                  \n",
            " conv2d_298 (Conv2D)            (None, 13, 13, 96)   46176       ['max_pooling2d_72[0][0]']       \n",
            "                                                                                                  \n",
            " conv2d_300 (Conv2D)            (None, 13, 13, 16)   7696        ['max_pooling2d_72[0][0]']       \n",
            "                                                                                                  \n",
            " max_pooling2d_73 (MaxPooling2D  (None, 13, 13, 480)  0          ['max_pooling2d_72[0][0]']       \n",
            " )                                                                                                \n",
            "                                                                                                  \n",
            " conv2d_297 (Conv2D)            (None, 13, 13, 192)  92352       ['max_pooling2d_72[0][0]']       \n",
            "                                                                                                  \n",
            " conv2d_299 (Conv2D)            (None, 13, 13, 208)  179920      ['conv2d_298[0][0]']             \n",
            "                                                                                                  \n",
            " conv2d_301 (Conv2D)            (None, 13, 13, 48)   19248       ['conv2d_300[0][0]']             \n",
            "                                                                                                  \n",
            " conv2d_302 (Conv2D)            (None, 13, 13, 64)   30784       ['max_pooling2d_73[0][0]']       \n",
            "                                                                                                  \n",
            " concatenate_47 (Concatenate)   (None, 13, 13, 512)  0           ['conv2d_297[0][0]',             \n",
            "                                                                  'conv2d_299[0][0]',             \n",
            "                                                                  'conv2d_301[0][0]',             \n",
            "                                                                  'conv2d_302[0][0]']             \n",
            "                                                                                                  \n",
            " conv2d_304 (Conv2D)            (None, 13, 13, 112)  57456       ['concatenate_47[0][0]']         \n",
            "                                                                                                  \n",
            " conv2d_306 (Conv2D)            (None, 13, 13, 24)   12312       ['concatenate_47[0][0]']         \n",
            "                                                                                                  \n",
            " max_pooling2d_74 (MaxPooling2D  (None, 13, 13, 512)  0          ['concatenate_47[0][0]']         \n",
            " )                                                                                                \n",
            "                                                                                                  \n",
            " conv2d_303 (Conv2D)            (None, 13, 13, 160)  82080       ['concatenate_47[0][0]']         \n",
            "                                                                                                  \n",
            " conv2d_305 (Conv2D)            (None, 13, 13, 224)  226016      ['conv2d_304[0][0]']             \n",
            "                                                                                                  \n",
            " conv2d_307 (Conv2D)            (None, 13, 13, 64)   38464       ['conv2d_306[0][0]']             \n",
            "                                                                                                  \n",
            " conv2d_308 (Conv2D)            (None, 13, 13, 64)   32832       ['max_pooling2d_74[0][0]']       \n",
            "                                                                                                  \n",
            " concatenate_48 (Concatenate)   (None, 13, 13, 512)  0           ['conv2d_303[0][0]',             \n",
            "                                                                  'conv2d_305[0][0]',             \n",
            "                                                                  'conv2d_307[0][0]',             \n",
            "                                                                  'conv2d_308[0][0]']             \n",
            "                                                                                                  \n",
            " conv2d_310 (Conv2D)            (None, 13, 13, 128)  65664       ['concatenate_48[0][0]']         \n",
            "                                                                                                  \n",
            " conv2d_312 (Conv2D)            (None, 13, 13, 24)   12312       ['concatenate_48[0][0]']         \n",
            "                                                                                                  \n",
            " max_pooling2d_75 (MaxPooling2D  (None, 13, 13, 512)  0          ['concatenate_48[0][0]']         \n",
            " )                                                                                                \n",
            "                                                                                                  \n",
            " conv2d_309 (Conv2D)            (None, 13, 13, 128)  65664       ['concatenate_48[0][0]']         \n",
            "                                                                                                  \n",
            " conv2d_311 (Conv2D)            (None, 13, 13, 256)  295168      ['conv2d_310[0][0]']             \n",
            "                                                                                                  \n",
            " conv2d_313 (Conv2D)            (None, 13, 13, 64)   38464       ['conv2d_312[0][0]']             \n",
            "                                                                                                  \n",
            " conv2d_314 (Conv2D)            (None, 13, 13, 64)   32832       ['max_pooling2d_75[0][0]']       \n",
            "                                                                                                  \n",
            " concatenate_49 (Concatenate)   (None, 13, 13, 512)  0           ['conv2d_309[0][0]',             \n",
            "                                                                  'conv2d_311[0][0]',             \n",
            "                                                                  'conv2d_313[0][0]',             \n",
            "                                                                  'conv2d_314[0][0]']             \n",
            "                                                                                                  \n",
            " conv2d_316 (Conv2D)            (None, 13, 13, 144)  73872       ['concatenate_49[0][0]']         \n",
            "                                                                                                  \n",
            " conv2d_318 (Conv2D)            (None, 13, 13, 32)   16416       ['concatenate_49[0][0]']         \n",
            "                                                                                                  \n",
            " max_pooling2d_76 (MaxPooling2D  (None, 13, 13, 512)  0          ['concatenate_49[0][0]']         \n",
            " )                                                                                                \n",
            "                                                                                                  \n",
            " conv2d_315 (Conv2D)            (None, 13, 13, 112)  57456       ['concatenate_49[0][0]']         \n",
            "                                                                                                  \n",
            " conv2d_317 (Conv2D)            (None, 13, 13, 288)  373536      ['conv2d_316[0][0]']             \n",
            "                                                                                                  \n",
            " conv2d_319 (Conv2D)            (None, 13, 13, 64)   51264       ['conv2d_318[0][0]']             \n",
            "                                                                                                  \n",
            " conv2d_320 (Conv2D)            (None, 13, 13, 64)   32832       ['max_pooling2d_76[0][0]']       \n",
            "                                                                                                  \n",
            " concatenate_50 (Concatenate)   (None, 13, 13, 528)  0           ['conv2d_315[0][0]',             \n",
            "                                                                  'conv2d_317[0][0]',             \n",
            "                                                                  'conv2d_319[0][0]',             \n",
            "                                                                  'conv2d_320[0][0]']             \n",
            "                                                                                                  \n",
            " conv2d_322 (Conv2D)            (None, 13, 13, 160)  84640       ['concatenate_50[0][0]']         \n",
            "                                                                                                  \n",
            " conv2d_324 (Conv2D)            (None, 13, 13, 32)   16928       ['concatenate_50[0][0]']         \n",
            "                                                                                                  \n",
            " max_pooling2d_77 (MaxPooling2D  (None, 13, 13, 528)  0          ['concatenate_50[0][0]']         \n",
            " )                                                                                                \n",
            "                                                                                                  \n",
            " conv2d_321 (Conv2D)            (None, 13, 13, 256)  135424      ['concatenate_50[0][0]']         \n",
            "                                                                                                  \n",
            " conv2d_323 (Conv2D)            (None, 13, 13, 320)  461120      ['conv2d_322[0][0]']             \n",
            "                                                                                                  \n",
            " conv2d_325 (Conv2D)            (None, 13, 13, 128)  102528      ['conv2d_324[0][0]']             \n",
            "                                                                                                  \n",
            " conv2d_326 (Conv2D)            (None, 13, 13, 128)  67712       ['max_pooling2d_77[0][0]']       \n",
            "                                                                                                  \n",
            " concatenate_51 (Concatenate)   (None, 13, 13, 832)  0           ['conv2d_321[0][0]',             \n",
            "                                                                  'conv2d_323[0][0]',             \n",
            "                                                                  'conv2d_325[0][0]',             \n",
            "                                                                  'conv2d_326[0][0]']             \n",
            "                                                                                                  \n",
            " max_pooling2d_78 (MaxPooling2D  (None, 6, 6, 832)   0           ['concatenate_51[0][0]']         \n",
            " )                                                                                                \n",
            "                                                                                                  \n",
            " conv2d_328 (Conv2D)            (None, 6, 6, 160)    133280      ['max_pooling2d_78[0][0]']       \n",
            "                                                                                                  \n",
            " conv2d_330 (Conv2D)            (None, 6, 6, 32)     26656       ['max_pooling2d_78[0][0]']       \n",
            "                                                                                                  \n",
            " max_pooling2d_79 (MaxPooling2D  (None, 6, 6, 832)   0           ['max_pooling2d_78[0][0]']       \n",
            " )                                                                                                \n",
            "                                                                                                  \n",
            " conv2d_327 (Conv2D)            (None, 6, 6, 256)    213248      ['max_pooling2d_78[0][0]']       \n",
            "                                                                                                  \n",
            " conv2d_329 (Conv2D)            (None, 6, 6, 320)    461120      ['conv2d_328[0][0]']             \n",
            "                                                                                                  \n",
            " conv2d_331 (Conv2D)            (None, 6, 6, 128)    102528      ['conv2d_330[0][0]']             \n",
            "                                                                                                  \n",
            " conv2d_332 (Conv2D)            (None, 6, 6, 128)    106624      ['max_pooling2d_79[0][0]']       \n",
            "                                                                                                  \n",
            " concatenate_52 (Concatenate)   (None, 6, 6, 832)    0           ['conv2d_327[0][0]',             \n",
            "                                                                  'conv2d_329[0][0]',             \n",
            "                                                                  'conv2d_331[0][0]',             \n",
            "                                                                  'conv2d_332[0][0]']             \n",
            "                                                                                                  \n",
            " conv2d_334 (Conv2D)            (None, 6, 6, 192)    159936      ['concatenate_52[0][0]']         \n",
            "                                                                                                  \n",
            " conv2d_336 (Conv2D)            (None, 6, 6, 48)     39984       ['concatenate_52[0][0]']         \n",
            "                                                                                                  \n",
            " max_pooling2d_80 (MaxPooling2D  (None, 6, 6, 832)   0           ['concatenate_52[0][0]']         \n",
            " )                                                                                                \n",
            "                                                                                                  \n",
            " conv2d_333 (Conv2D)            (None, 6, 6, 384)    319872      ['concatenate_52[0][0]']         \n",
            "                                                                                                  \n",
            " conv2d_335 (Conv2D)            (None, 6, 6, 384)    663936      ['conv2d_334[0][0]']             \n",
            "                                                                                                  \n",
            " conv2d_337 (Conv2D)            (None, 6, 6, 128)    153728      ['conv2d_336[0][0]']             \n",
            "                                                                                                  \n",
            " conv2d_338 (Conv2D)            (None, 6, 6, 128)    106624      ['max_pooling2d_80[0][0]']       \n",
            "                                                                                                  \n",
            " concatenate_53 (Concatenate)   (None, 6, 6, 1024)   0           ['conv2d_333[0][0]',             \n",
            "                                                                  'conv2d_335[0][0]',             \n",
            "                                                                  'conv2d_337[0][0]',             \n",
            "                                                                  'conv2d_338[0][0]']             \n",
            "                                                                                                  \n",
            " average_pooling2d_4 (AveragePo  (None, 6, 6, 1024)  0           ['concatenate_53[0][0]']         \n",
            " oling2D)                                                                                         \n",
            "                                                                                                  \n",
            " dropout_4 (Dropout)            (None, 6, 6, 1024)   0           ['average_pooling2d_4[0][0]']    \n",
            "                                                                                                  \n",
            " dense_10 (Dense)               (None, 6, 6, 1000)   1025000     ['dropout_4[0][0]']              \n",
            "                                                                                                  \n",
            " dense_11 (Dense)               (None, 6, 6, 5)      5005        ['dense_10[0][0]']               \n",
            "                                                                                                  \n",
            "==================================================================================================\n",
            "Total params: 7,000,421\n",
            "Trainable params: 6,999,909\n",
            "Non-trainable params: 512\n",
            "__________________________________________________________________________________________________\n"
          ]
        }
      ]
    }
  ]
}