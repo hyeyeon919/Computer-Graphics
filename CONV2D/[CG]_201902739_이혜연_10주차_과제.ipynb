{
  "nbformat": 4,
  "nbformat_minor": 0,
  "metadata": {
    "colab": {
      "name": "[CG] 201902739_이혜연_10주차 과제",
      "provenance": [],
      "collapsed_sections": []
    },
    "kernelspec": {
      "name": "python3",
      "display_name": "Python 3"
    },
    "language_info": {
      "name": "python"
    }
  },
  "cells": [
    {
      "cell_type": "code",
      "metadata": {
        "id": "wlAQAedbUaJ_"
      },
      "source": [
        "import tensorflow as tf\n",
        "from tensorflow import keras\n",
        "import matplotlib.pyplot as plt\n",
        "import numpy as np"
      ],
      "execution_count": 29,
      "outputs": []
    },
    {
      "cell_type": "code",
      "metadata": {
        "id": "erFJhyfKUbKe"
      },
      "source": [
        "cifar10 = tf.keras.datasets.cifar10\n",
        "\n",
        "(train_inputs, train_labels), (test_inputs, test_labels) = cifar10.load_data()"
      ],
      "execution_count": 30,
      "outputs": []
    },
    {
      "cell_type": "code",
      "metadata": {
        "colab": {
          "base_uri": "https://localhost:8080/"
        },
        "id": "W9Tu0xM3UbdV",
        "outputId": "0fa65df6-795a-4605-9346-3748c9aa26c4"
      },
      "source": [
        "print(train_inputs.shape)\n",
        "print(train_labels.shape)"
      ],
      "execution_count": 31,
      "outputs": [
        {
          "output_type": "stream",
          "name": "stdout",
          "text": [
            "(50000, 32, 32, 3)\n",
            "(50000, 1)\n"
          ]
        }
      ]
    },
    {
      "cell_type": "code",
      "metadata": {
        "colab": {
          "base_uri": "https://localhost:8080/",
          "height": 266
        },
        "id": "Oa73A2z3UcSl",
        "outputId": "7329b3a0-c3a1-45c4-f510-893741b86e10"
      },
      "source": [
        "plt.imshow(train_inputs[0])\n",
        "plt.show()"
      ],
      "execution_count": 32,
      "outputs": [
        {
          "output_type": "display_data",
          "data": {
            "image/png": "[encoded data removed]",
            "text/plain": [
              "<Figure size 432x288 with 1 Axes>"
            ]
          },
          "metadata": {
            "needs_background": "light"
          }
        }
      ]
    },
    {
      "cell_type": "code",
      "metadata": {
        "id": "F3jblvc6UdWs"
      },
      "source": [
        "train_inputs = train_inputs / 255.0\n",
        "test_inputs = test_inputs / 255.0"
      ],
      "execution_count": 33,
      "outputs": []
    },
    {
      "cell_type": "code",
      "metadata": {
        "id": "NMAyIpxYUeXM"
      },
      "source": [
        "model = keras.Sequential([\n",
        "                          keras.Input(shape=(32,32,3)),\n",
        "                          keras.layers.Flatten(),\n",
        "                          keras.layers.Dense(128,activation='relu'),\n",
        "                          keras.layers.Dense(10,activation='softmax'),\n",
        "                          ])"
      ],
      "execution_count": 34,
      "outputs": []
    },
    {
      "cell_type": "code",
      "metadata": {
        "colab": {
          "base_uri": "https://localhost:8080/"
        },
        "id": "-sG-nCQQUe91",
        "outputId": "60f6c785-3224-4eda-d31c-748d483c5508"
      },
      "source": [
        "model.summary()"
      ],
      "execution_count": 35,
      "outputs": [
        {
          "output_type": "stream",
          "name": "stdout",
          "text": [
            "Model: \"sequential_6\"\n",
            "_________________________________________________________________\n",
            " Layer (type)                Output Shape              Param #   \n",
            "=================================================================\n",
            " flatten_6 (Flatten)         (None, 3072)              0         \n",
            "                                                                 \n",
            " dense_9 (Dense)             (None, 128)               393344    \n",
            "                                                                 \n",
            " dense_10 (Dense)            (None, 10)                1290      \n",
            "                                                                 \n",
            "=================================================================\n",
            "Total params: 394,634\n",
            "Trainable params: 394,634\n",
            "Non-trainable params: 0\n",
            "_________________________________________________________________\n"
          ]
        }
      ]
    },
    {
      "cell_type": "code",
      "metadata": {
        "colab": {
          "base_uri": "https://localhost:8080/"
        },
        "id": "kgtfzbjTUfr9",
        "outputId": "292de0bc-4683-4038-a134-4549a1b26842"
      },
      "source": [
        "model_flatten = tf.keras.Model(inputs=model.input, outputs=model.layers[0].output)\n",
        "test_output1 = model_flatten(tf.expand_dims(train_inputs[0],axis=0))\n",
        "print(test_output1)"
      ],
      "execution_count": 36,
      "outputs": [
        {
          "output_type": "stream",
          "name": "stdout",
          "text": [
            "tf.Tensor([[0.23137255 0.24313726 0.24705882 ... 0.48235294 0.36078432 0.28235295]], shape=(1, 3072), dtype=float32)\n"
          ]
        }
      ]
    },
    {
      "cell_type": "code",
      "metadata": {
        "colab": {
          "base_uri": "https://localhost:8080/"
        },
        "id": "uZTh5SyzUhUk",
        "outputId": "780a4dfc-6b5b-4faf-e7c4-1ec3f39f88f9"
      },
      "source": [
        "model_dense1 = tf.keras.Model(inputs=model.input, outputs=model.layers[1].output)\n",
        "test_output2 = model_dense1(tf.expand_dims(train_inputs[0],axis=0))\n",
        "print(test_output2)"
      ],
      "execution_count": 37,
      "outputs": [
        {
          "output_type": "stream",
          "name": "stdout",
          "text": [
            "tf.Tensor(\n",
            "[[0.         0.         0.         0.         0.1792343  0.\n",
            "  0.         0.7785615  0.         0.41604945 0.49682203 1.5688543\n",
            "  0.8508504  0.06899011 0.13441075 0.8702435  0.50019884 0.561936\n",
            "  0.35094672 0.         0.31131908 0.02098805 0.         0.34333557\n",
            "  0.9266428  0.         0.         0.         0.         0.\n",
            "  1.1366234  0.         0.         0.         0.         0.\n",
            "  0.         0.         0.         0.7601518  0.60514635 0.\n",
            "  1.09964    0.         0.23117642 0.         0.6553364  0.\n",
            "  0.5211563  0.         0.         0.         0.         0.\n",
            "  0.24255735 0.7134427  0.6730896  0.6191208  0.4560117  1.202316\n",
            "  0.9409227  1.427356   1.1296386  0.         0.         0.07489868\n",
            "  0.19693694 0.         0.         0.         0.         0.30531934\n",
            "  0.77706355 0.         0.33908895 0.5458358  1.188494   0.252843\n",
            "  0.         0.5302079  0.         0.         0.2995571  0.\n",
            "  0.5128911  1.2355131  0.9922369  0.00957065 0.37569493 0.22028455\n",
            "  0.27845725 0.97001725 0.4600717  1.1344969  0.09008818 0.6598431\n",
            "  0.38136616 0.         0.19702068 0.18834427 0.5995391  0.\n",
            "  0.6838761  0.22878514 0.         0.15710314 0.22546045 0.9734787\n",
            "  0.         0.8293085  0.5544308  0.         0.         0.\n",
            "  0.         0.         0.6163431  0.         0.         0.\n",
            "  0.         0.         0.         0.         0.1133779  0.01139553\n",
            "  0.5704013  0.        ]], shape=(1, 128), dtype=float32)\n"
          ]
        }
      ]
    },
    {
      "cell_type": "code",
      "metadata": {
        "colab": {
          "base_uri": "https://localhost:8080/"
        },
        "id": "teUF2itnUjR0",
        "outputId": "eb43e3ce-09e2-490b-8a9e-b37e565f34ca"
      },
      "source": [
        "model_dense2 = tf.keras.Model(inputs=model.input, outputs=model.layers[2].output)\n",
        "test_output3 = model_dense2(tf.expand_dims(train_inputs[0],axis=0))\n",
        "print(test_output3)"
      ],
      "execution_count": 38,
      "outputs": [
        {
          "output_type": "stream",
          "name": "stdout",
          "text": [
            "tf.Tensor(\n",
            "[[0.20494321 0.02664974 0.0521927  0.19892424 0.02557576 0.2325079\n",
            "  0.07765593 0.05564053 0.07052614 0.05538382]], shape=(1, 10), dtype=float32)\n"
          ]
        }
      ]
    },
    {
      "cell_type": "code",
      "metadata": {
        "id": "k5WYqMWwUj8V"
      },
      "source": [
        "model.compile(optimizer='Adam',\n",
        "              loss=keras.losses.SparseCategoricalCrossentropy(from_logits=True),\n",
        "              metrics=['acc'])"
      ],
      "execution_count": 39,
      "outputs": []
    },
    {
      "cell_type": "code",
      "metadata": {
        "colab": {
          "base_uri": "https://localhost:8080/"
        },
        "id": "Z7JAVkYaUk3M",
        "outputId": "af40ecfb-1402-43b1-a2ae-9e7f7928d3ff"
      },
      "source": [
        "model.fit(x=train_inputs,\n",
        "          y=train_labels,\n",
        "          batch_size=8,\n",
        "          epochs=20,\n",
        "          validation_data=(test_inputs,test_labels))"
      ],
      "execution_count": 40,
      "outputs": [
        {
          "output_type": "stream",
          "name": "stdout",
          "text": [
            "Epoch 1/20\n"
          ]
        },
        {
          "output_type": "stream",
          "name": "stderr",
          "text": [
            "/usr/local/lib/python3.7/dist-packages/tensorflow/python/util/dispatch.py:1096: UserWarning: \"`sparse_categorical_crossentropy` received `from_logits=True`, but the `output` argument was produced by a sigmoid or softmax activation and thus does not represent logits. Was this intended?\"\n",
            "  return dispatch_target(*args, **kwargs)\n"
          ]
        },
        {
          "output_type": "stream",
          "name": "stdout",
          "text": [
            "6250/6250 [==============================] - 21s 3ms/step - loss: 2.1418 - acc: 0.1694 - val_loss: 2.0989 - val_acc: 0.1653\n",
            "Epoch 2/20\n",
            "6250/6250 [==============================] - 21s 3ms/step - loss: 2.0891 - acc: 0.1755 - val_loss: 2.0684 - val_acc: 0.1845\n",
            "Epoch 3/20\n",
            "6250/6250 [==============================] - 22s 3ms/step - loss: 2.0791 - acc: 0.1794 - val_loss: 2.0702 - val_acc: 0.1818\n",
            "Epoch 4/20\n",
            "6250/6250 [==============================] - 22s 3ms/step - loss: 2.0745 - acc: 0.1812 - val_loss: 2.0623 - val_acc: 0.1646\n",
            "Epoch 5/20\n",
            "6250/6250 [==============================] - 21s 3ms/step - loss: 2.0713 - acc: 0.1788 - val_loss: 2.0720 - val_acc: 0.1683\n",
            "Epoch 6/20\n",
            "6250/6250 [==============================] - 21s 3ms/step - loss: 2.0685 - acc: 0.1800 - val_loss: 2.0562 - val_acc: 0.1764\n",
            "Epoch 7/20\n",
            "6250/6250 [==============================] - 22s 4ms/step - loss: 2.0654 - acc: 0.1819 - val_loss: 2.1257 - val_acc: 0.1661\n",
            "Epoch 8/20\n",
            "6250/6250 [==============================] - 21s 3ms/step - loss: 2.0620 - acc: 0.1804 - val_loss: 2.0512 - val_acc: 0.1872\n",
            "Epoch 9/20\n",
            "6250/6250 [==============================] - 21s 3ms/step - loss: 2.0610 - acc: 0.1819 - val_loss: 2.0588 - val_acc: 0.1742\n",
            "Epoch 10/20\n",
            "6250/6250 [==============================] - 22s 3ms/step - loss: 2.0576 - acc: 0.1827 - val_loss: 2.0513 - val_acc: 0.1813\n",
            "Epoch 11/20\n",
            "6250/6250 [==============================] - 21s 3ms/step - loss: 2.0567 - acc: 0.1844 - val_loss: 2.0571 - val_acc: 0.1833\n",
            "Epoch 12/20\n",
            "6250/6250 [==============================] - 22s 3ms/step - loss: 2.0543 - acc: 0.1842 - val_loss: 2.0515 - val_acc: 0.1925\n",
            "Epoch 13/20\n",
            "6250/6250 [==============================] - 21s 3ms/step - loss: 2.0539 - acc: 0.1847 - val_loss: 2.0485 - val_acc: 0.1804\n",
            "Epoch 14/20\n",
            "6250/6250 [==============================] - 22s 3ms/step - loss: 2.0512 - acc: 0.1856 - val_loss: 2.0447 - val_acc: 0.1933\n",
            "Epoch 15/20\n",
            "6250/6250 [==============================] - 21s 3ms/step - loss: 2.0507 - acc: 0.1858 - val_loss: 2.0416 - val_acc: 0.1935\n",
            "Epoch 16/20\n",
            "6250/6250 [==============================] - 20s 3ms/step - loss: 2.0488 - acc: 0.1849 - val_loss: 2.0643 - val_acc: 0.1855\n",
            "Epoch 17/20\n",
            "6250/6250 [==============================] - 22s 4ms/step - loss: 2.0478 - acc: 0.1839 - val_loss: 2.0491 - val_acc: 0.1846\n",
            "Epoch 18/20\n",
            "6250/6250 [==============================] - 22s 4ms/step - loss: 2.0469 - acc: 0.1842 - val_loss: 2.0437 - val_acc: 0.1878\n",
            "Epoch 19/20\n",
            "6250/6250 [==============================] - 25s 4ms/step - loss: 2.0462 - acc: 0.1857 - val_loss: 2.0437 - val_acc: 0.1675\n",
            "Epoch 20/20\n",
            "6250/6250 [==============================] - 22s 3ms/step - loss: 2.0465 - acc: 0.1885 - val_loss: 2.0436 - val_acc: 0.1755\n"
          ]
        },
        {
          "output_type": "execute_result",
          "data": {
            "text/plain": [
              "<keras.callbacks.History at 0x7fe30eeca4d0>"
            ]
          },
          "metadata": {},
          "execution_count": 40
        }
      ]
    },
    {
      "cell_type": "code",
      "metadata": {
        "id": "_cgGrlj-UlhE"
      },
      "source": [
        "\n",
        "model = keras.Sequential([\n",
        "                          keras.Input(shape=(32,32,3)),\n",
        "                          tf.keras.layers.Conv2D(12, (5,5), strides=(1,1), padding='valid'),\n",
        "                          tf.keras.layers.MaxPool2D(),\n",
        "                          tf.keras.layers.Conv2D(8, (5,5), strides=(1,1), padding='valid'),\n",
        "                          keras.layers.Flatten(),\n",
        "                          keras.layers.Dense(128,activation='relu'),\n",
        "                          keras.layers.Dense(10,activation='softmax')\n",
        "                          ])"
      ],
      "execution_count": 41,
      "outputs": []
    },
    {
      "cell_type": "code",
      "metadata": {
        "colab": {
          "base_uri": "https://localhost:8080/"
        },
        "id": "MvuCollpNlBA",
        "outputId": "bc81e690-bb9c-4a5b-fdfb-d674dede1cf5"
      },
      "source": [
        "model.summary()"
      ],
      "execution_count": 42,
      "outputs": [
        {
          "output_type": "stream",
          "name": "stdout",
          "text": [
            "Model: \"sequential_7\"\n",
            "_________________________________________________________________\n",
            " Layer (type)                Output Shape              Param #   \n",
            "=================================================================\n",
            " conv2d_12 (Conv2D)          (None, 28, 28, 12)        912       \n",
            "                                                                 \n",
            " max_pooling2d_6 (MaxPooling  (None, 14, 14, 12)       0         \n",
            " 2D)                                                             \n",
            "                                                                 \n",
            " conv2d_13 (Conv2D)          (None, 10, 10, 8)         2408      \n",
            "                                                                 \n",
            " flatten_7 (Flatten)         (None, 800)               0         \n",
            "                                                                 \n",
            " dense_11 (Dense)            (None, 128)               102528    \n",
            "                                                                 \n",
            " dense_12 (Dense)            (None, 10)                1290      \n",
            "                                                                 \n",
            "=================================================================\n",
            "Total params: 107,138\n",
            "Trainable params: 107,138\n",
            "Non-trainable params: 0\n",
            "_________________________________________________________________\n"
          ]
        }
      ]
    },
    {
      "cell_type": "code",
      "metadata": {
        "id": "KwGvVNi0Uxzd"
      },
      "source": [
        "model.compile(optimizer='Adam',\n",
        "              loss=keras.losses.SparseCategoricalCrossentropy(from_logits=True),\n",
        "              metrics=['acc'])"
      ],
      "execution_count": 43,
      "outputs": []
    },
    {
      "cell_type": "code",
      "metadata": {
        "id": "65tItXIsUznx",
        "colab": {
          "base_uri": "https://localhost:8080/"
        },
        "outputId": "a915d29e-805b-4b31-8058-c66a122de94d"
      },
      "source": [
        "model.fit(x=train_inputs,\n",
        "          y=train_labels,\n",
        "          batch_size=8,\n",
        "          epochs=20,\n",
        "          validation_data=(test_inputs,test_labels))"
      ],
      "execution_count": 44,
      "outputs": [
        {
          "output_type": "stream",
          "name": "stdout",
          "text": [
            "Epoch 1/20\n"
          ]
        },
        {
          "output_type": "stream",
          "name": "stderr",
          "text": [
            "/usr/local/lib/python3.7/dist-packages/tensorflow/python/util/dispatch.py:1096: UserWarning: \"`sparse_categorical_crossentropy` received `from_logits=True`, but the `output` argument was produced by a sigmoid or softmax activation and thus does not represent logits. Was this intended?\"\n",
            "  return dispatch_target(*args, **kwargs)\n"
          ]
        },
        {
          "output_type": "stream",
          "name": "stdout",
          "text": [
            "6250/6250 [==============================] - 67s 11ms/step - loss: 1.5681 - acc: 0.4438 - val_loss: 1.4041 - val_acc: 0.5085\n",
            "Epoch 2/20\n",
            "6250/6250 [==============================] - 66s 11ms/step - loss: 1.2963 - acc: 0.5489 - val_loss: 1.3121 - val_acc: 0.5513\n",
            "Epoch 3/20\n",
            "6250/6250 [==============================] - 66s 11ms/step - loss: 1.1714 - acc: 0.5920 - val_loss: 1.2118 - val_acc: 0.5811\n",
            "Epoch 4/20\n",
            "6250/6250 [==============================] - 66s 11ms/step - loss: 1.0865 - acc: 0.6250 - val_loss: 1.1718 - val_acc: 0.5980\n",
            "Epoch 5/20\n",
            "6250/6250 [==============================] - 66s 11ms/step - loss: 1.0161 - acc: 0.6490 - val_loss: 1.1835 - val_acc: 0.6082\n",
            "Epoch 6/20\n",
            "6250/6250 [==============================] - 66s 11ms/step - loss: 0.9564 - acc: 0.6700 - val_loss: 1.1562 - val_acc: 0.6129\n",
            "Epoch 7/20\n",
            "6250/6250 [==============================] - 66s 11ms/step - loss: 0.9040 - acc: 0.6868 - val_loss: 1.2263 - val_acc: 0.6026\n",
            "Epoch 8/20\n",
            "6250/6250 [==============================] - 65s 10ms/step - loss: 0.8595 - acc: 0.7025 - val_loss: 1.2541 - val_acc: 0.5989\n",
            "Epoch 9/20\n",
            "6250/6250 [==============================] - 71s 11ms/step - loss: 0.8137 - acc: 0.7188 - val_loss: 1.3213 - val_acc: 0.6009\n",
            "Epoch 10/20\n",
            "6250/6250 [==============================] - 67s 11ms/step - loss: 0.7727 - acc: 0.7317 - val_loss: 1.3268 - val_acc: 0.5992\n",
            "Epoch 11/20\n",
            "6250/6250 [==============================] - 67s 11ms/step - loss: 0.7346 - acc: 0.7439 - val_loss: 1.4295 - val_acc: 0.5768\n",
            "Epoch 12/20\n",
            "6250/6250 [==============================] - 67s 11ms/step - loss: 0.6978 - acc: 0.7558 - val_loss: 1.4539 - val_acc: 0.5957\n",
            "Epoch 13/20\n",
            "6250/6250 [==============================] - 67s 11ms/step - loss: 0.6676 - acc: 0.7671 - val_loss: 1.5366 - val_acc: 0.5956\n",
            "Epoch 14/20\n",
            "6250/6250 [==============================] - 67s 11ms/step - loss: 0.6382 - acc: 0.7779 - val_loss: 1.4795 - val_acc: 0.5797\n",
            "Epoch 15/20\n",
            "6250/6250 [==============================] - 67s 11ms/step - loss: 0.6054 - acc: 0.7880 - val_loss: 1.6805 - val_acc: 0.5819\n",
            "Epoch 16/20\n",
            "6250/6250 [==============================] - 66s 11ms/step - loss: 0.5844 - acc: 0.7946 - val_loss: 1.7843 - val_acc: 0.5803\n",
            "Epoch 17/20\n",
            "6250/6250 [==============================] - 67s 11ms/step - loss: 0.5632 - acc: 0.8018 - val_loss: 1.7830 - val_acc: 0.5819\n",
            "Epoch 18/20\n",
            "6250/6250 [==============================] - 67s 11ms/step - loss: 0.5402 - acc: 0.8120 - val_loss: 1.8858 - val_acc: 0.5797\n",
            "Epoch 19/20\n",
            "6250/6250 [==============================] - 67s 11ms/step - loss: 0.5260 - acc: 0.8183 - val_loss: 2.0950 - val_acc: 0.5805\n",
            "Epoch 20/20\n",
            "6250/6250 [==============================] - 68s 11ms/step - loss: 0.5076 - acc: 0.8254 - val_loss: 2.2861 - val_acc: 0.5624\n"
          ]
        },
        {
          "output_type": "execute_result",
          "data": {
            "text/plain": [
              "<keras.callbacks.History at 0x7fe30ef7ee10>"
            ]
          },
          "metadata": {},
          "execution_count": 44
        }
      ]
    }
  ]
}